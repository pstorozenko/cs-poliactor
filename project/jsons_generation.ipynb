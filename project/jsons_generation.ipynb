{
 "cells": [
  {
   "cell_type": "code",
   "execution_count": 141,
   "metadata": {},
   "outputs": [],
   "source": [
    "from bs4 import BeautifulSoup\n",
    "from urllib.request import urlopen\n",
    "import json\n",
    "from collections import defaultdict"
   ]
  },
  {
   "cell_type": "code",
   "execution_count": 148,
   "metadata": {},
   "outputs": [],
   "source": [
    "d = defaultdict(list)\n",
    "\n",
    "link = \"https://www.filmweb.pl/ranking/person/actors/female?page=\"\n",
    "\n",
    "for i in range(1,7):\n",
    "    url = urlopen(link + str(i))\n",
    "    data = url.read()\n",
    "    soup = BeautifulSoup(data, 'html.parser')\n",
    "    sd = soup.find_all('div', {'class' :'item place'})\n",
    "    \n",
    "    for person in sd:\n",
    "        photos = person.find_all('div', {'class' : 'pointer roleImg loadingRoleImage'})\n",
    "        s = person.find_all('a', {'class' : 'film__link'})[-1]\n",
    "        actor_name = s.contents[0]\n",
    "    \n",
    "        for photo in photos:\n",
    "            d[actor_name.strip()].append(photo['href'])\n",
    "\n",
    "with open('female_act.json', 'w') as f:\n",
    "    f.write(json.dumps(d))\n",
    "    "
   ]
  },
  {
   "cell_type": "code",
   "execution_count": 149,
   "metadata": {},
   "outputs": [],
   "source": [
    "d = defaultdict(list)\n",
    "\n",
    "link = \"https://www.filmweb.pl/ranking/person/actors/male?page=\"\n",
    "\n",
    "for i in range(1,7):\n",
    "    url = urlopen(link + str(i))\n",
    "    data = url.read()\n",
    "    soup = BeautifulSoup(data, 'html.parser')\n",
    "    sd = soup.find_all('div', {'class' :'item place'})\n",
    "    \n",
    "    for person in sd:\n",
    "        photos = person.find_all('div', {'class' : 'pointer roleImg loadingRoleImage'})\n",
    "        s = person.find_all('a', {'class' : 'film__link'})[-1]\n",
    "        actor_name = s.contents[0]\n",
    "    \n",
    "        for photo in photos:\n",
    "            d[actor_name.strip()].append(photo['href'])\n",
    "\n",
    "with open('male_act.json', 'w') as f:\n",
    "    f.write(json.dumps(d))\n",
    "    "
   ]
  },
  {
   "cell_type": "code",
   "execution_count": 188,
   "metadata": {},
   "outputs": [
    {
     "name": "stdout",
     "output_type": "stream",
     "text": [
      "'NoneType' object is not subscriptable\n"
     ]
    }
   ],
   "source": [
    "d = defaultdict(list)\n",
    "maxid = 400\n",
    "ids = [f\"{i:03}\" for i in range(1,474)]\n",
    "\n",
    "for idd in ids:\n",
    "    url = urlopen('http://www.sejm.gov.pl/Sejm8.nsf/posel.xsp?id=' + idd)\n",
    "    data = url.read()\n",
    "    try:\n",
    "        soup = BeautifulSoup(data, 'html.parser')\n",
    "        name = soup.find('h1').contents[0]\n",
    "        download_link = soup.find('img', {'class': 'xspImage'})['src']\n",
    "        if download_link is not None:\n",
    "            d[name].append(download_link)\n",
    "    except Exception as e:\n",
    "        print(e)\n",
    "\n",
    "with open('politicians.json', 'w') as f:\n",
    "    f.write(json.dumps(d))"
   ]
  }
 ],
 "metadata": {
  "kernelspec": {
   "display_name": "Python 3",
   "language": "python",
   "name": "python3"
  },
  "language_info": {
   "codemirror_mode": {
    "name": "ipython",
    "version": 3
   },
   "file_extension": ".py",
   "mimetype": "text/x-python",
   "name": "python",
   "nbconvert_exporter": "python",
   "pygments_lexer": "ipython3",
   "version": "3.7.0"
  }
 },
 "nbformat": 4,
 "nbformat_minor": 2
}
